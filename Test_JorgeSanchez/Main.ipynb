{
 "cells": [
  {
   "cell_type": "code",
   "execution_count": 1,
   "id": "f976821c-6f95-4b5d-99b4-2846c7003c24",
   "metadata": {},
   "outputs": [
    {
     "name": "stdout",
     "output_type": "stream",
     "text": [
      "Collecting omegaconf\n",
      "  Downloading omegaconf-2.3.0-py3-none-any.whl.metadata (3.9 kB)\n",
      "Collecting antlr4-python3-runtime==4.9.* (from omegaconf)\n",
      "  Downloading antlr4-python3-runtime-4.9.3.tar.gz (117 kB)\n",
      "  Preparing metadata (setup.py): started\n",
      "  Preparing metadata (setup.py): finished with status 'done'\n",
      "Requirement already satisfied: PyYAML>=5.1.0 in c:\\users\\jasanchez\\appdata\\local\\anaconda3\\lib\\site-packages (from omegaconf) (6.0.2)\n",
      "Downloading omegaconf-2.3.0-py3-none-any.whl (79 kB)\n",
      "Building wheels for collected packages: antlr4-python3-runtime\n",
      "  Building wheel for antlr4-python3-runtime (setup.py): started\n",
      "  Building wheel for antlr4-python3-runtime (setup.py): finished with status 'done'\n",
      "  Created wheel for antlr4-python3-runtime: filename=antlr4_python3_runtime-4.9.3-py3-none-any.whl size=144577 sha256=7f0607c88b954e866044ba3d7d3201dccfae0dfc4bde76587ce7158fd0932ecb\n",
      "  Stored in directory: c:\\users\\jasanchez\\appdata\\local\\pip\\cache\\wheels\\d5\\b3\\74\\a35b66048c9de6631cd74cbc9475e6feb3e69a467983446bd8\n",
      "Successfully built antlr4-python3-runtime\n",
      "Installing collected packages: antlr4-python3-runtime, omegaconf\n",
      "\n",
      "   ---------------------------------------- 0/2 [antlr4-python3-runtime]\n",
      "   ---------------------------------------- 0/2 [antlr4-python3-runtime]\n",
      "   ---------------------------------------- 0/2 [antlr4-python3-runtime]\n",
      "   ---------------------------------------- 0/2 [antlr4-python3-runtime]\n",
      "   ---------------------------------------- 0/2 [antlr4-python3-runtime]\n",
      "   -------------------- ------------------- 1/2 [omegaconf]\n",
      "   -------------------- ------------------- 1/2 [omegaconf]\n",
      "   -------------------- ------------------- 1/2 [omegaconf]\n",
      "   -------------------- ------------------- 1/2 [omegaconf]\n",
      "   ---------------------------------------- 2/2 [omegaconf]\n",
      "\n",
      "Successfully installed antlr4-python3-runtime-4.9.3 omegaconf-2.3.0\n",
      "Note: you may need to restart the kernel to use updated packages.\n"
     ]
    },
    {
     "name": "stderr",
     "output_type": "stream",
     "text": [
      "  DEPRECATION: Building 'antlr4-python3-runtime' using the legacy setup.py bdist_wheel mechanism, which will be removed in a future version. pip 25.3 will enforce this behaviour change. A possible replacement is to use the standardized build interface by setting the `--use-pep517` option, (possibly combined with `--no-build-isolation`), or adding a `pyproject.toml` file to the source tree of 'antlr4-python3-runtime'. Discussion can be found at https://github.com/pypa/pip/issues/6334\n"
     ]
    }
   ],
   "source": [
    "#pip install omegaconf"
   ]
  },
  {
   "cell_type": "markdown",
   "id": "062baf99-72c0-4c1d-84b1-d742b9ea16d6",
   "metadata": {},
   "source": [
    "## Actualizando modulos sin reiniciar el Kernel"
   ]
  },
  {
   "cell_type": "code",
   "execution_count": 1,
   "id": "ffd266f2-381d-4072-bc8d-e32e43d356fe",
   "metadata": {},
   "outputs": [],
   "source": [
    "%load_ext autoreload\n",
    "%autoreload 2"
   ]
  },
  {
   "cell_type": "markdown",
   "id": "4908d3be-3b64-4c12-8737-efbf8f39d898",
   "metadata": {},
   "source": [
    "## Importando librerias"
   ]
  },
  {
   "cell_type": "code",
   "execution_count": 2,
   "id": "f41068db-f7ee-43fa-9444-64e7cb954916",
   "metadata": {},
   "outputs": [],
   "source": [
    "import DataUtilities as du #libreria con funciones para manejo de datos"
   ]
  },
  {
   "cell_type": "markdown",
   "id": "3ccc518a-ecfa-4ce1-8119-28b3e03fa547",
   "metadata": {},
   "source": [
    "## Main"
   ]
  },
  {
   "cell_type": "code",
   "execution_count": 3,
   "id": "b15df25b-a073-461d-ba46-c4323a054eee",
   "metadata": {},
   "outputs": [
    {
     "name": "stdout",
     "output_type": "stream",
     "text": [
      "Ingresa la fecha de inicio (YYYY-MM-DD): 2025-01-01\n",
      "Ingresa la fecha de fin (YYYY-MM-DD): 2025-06-30\n",
      "Rango correcto: 2025-01-01 2025-06-30\n",
      "Columna 'pais' no tiene valores nulos.\n",
      "Columna 'fecha_proceso' no tiene valores nulos.\n",
      "Columna 'transporte' no tiene valores nulos.\n",
      "Columna 'ruta' no tiene valores nulos.\n",
      "Columna 'tipo_entrega' no tiene valores nulos.\n",
      "Columna 'material' no tiene valores nulos.\n",
      "Columna 'precio' no tiene valores nulos.\n",
      "Columna 'cantidad' no tiene valores nulos.\n",
      "Columna 'unidad' no tiene valores nulos.\n",
      "Guardando arcvhivo:  dev/processedData/Guatemala\\20250513.csv\n"
     ]
    }
   ],
   "source": [
    "entorno = \"dev\"\n",
    "pais = \"Guatemala\"\n",
    "\n",
    "#validando fechas a procesosar\n",
    "if du.date_validate():\n",
    "\n",
    "    #Cargando configuraciones\n",
    "    du.load_config(pais, entorno)\n",
    "    \n",
    "    #Procesando datos\n",
    "    du.data_process()\n"
   ]
  },
  {
   "cell_type": "code",
   "execution_count": 139,
   "id": "acab42d3-c625-4d21-9771-7dc9531dbe99",
   "metadata": {},
   "outputs": [],
   "source": []
  }
 ],
 "metadata": {
  "kernelspec": {
   "display_name": "Python 3 (ipykernel)",
   "language": "python",
   "name": "python3"
  },
  "language_info": {
   "codemirror_mode": {
    "name": "ipython",
    "version": 3
   },
   "file_extension": ".py",
   "mimetype": "text/x-python",
   "name": "python",
   "nbconvert_exporter": "python",
   "pygments_lexer": "ipython3",
   "version": "3.11.4"
  }
 },
 "nbformat": 4,
 "nbformat_minor": 5
}
